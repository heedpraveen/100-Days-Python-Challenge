{
 "cells": [
  {
   "cell_type": "code",
   "execution_count": 2,
   "metadata": {},
   "outputs": [
    {
     "name": "stdout",
     "output_type": "stream",
     "text": [
      "What do you choose? Type 0 for Rock, 1 for Paper, 2 for Scissors.\n",
      "2\n",
      "\n",
      "    _______\n",
      "---'   ____)____\n",
      "          ______)\n",
      "       __________)\n",
      "      (____)\n",
      "---.__(___)\n",
      "\n",
      "Computer Choose:\n",
      "\n",
      "\n",
      "    _______\n",
      "---'   ____)____\n",
      "          ______)\n",
      "       __________)\n",
      "      (____)\n",
      "---.__(___)\n",
      "\n",
      "It's a draw\n",
      "_\n"
     ]
    }
   ],
   "source": [
    "rock = '''\n",
    "    _______\n",
    "---'   ____)\n",
    "      (_____)\n",
    "      (_____)\n",
    "      (____)\n",
    "---.__(___)\n",
    "'''\n",
    "\n",
    "paper = '''\n",
    "    _______\n",
    "---'   ____)____\n",
    "          ______)\n",
    "          _______)\n",
    "         _______)\n",
    "---.__________)\n",
    "'''\n",
    "\n",
    "scissors = '''\n",
    "    _______\n",
    "---'   ____)____\n",
    "          ______)\n",
    "       __________)\n",
    "      (____)\n",
    "---.__(___)\n",
    "'''\n",
    "\n",
    "#Write your code below this line 👇\n",
    "\n",
    "import random\n",
    "user_choice = int(input(\"What do you choose? Type 0 for Rock, 1 for Paper, 2 for Scissors.\\n\"))\n",
    "\n",
    "random_list = [rock, paper, scissors]\n",
    "comp_choice = random.randint(0,len(random_list)-1)\n",
    "\n",
    "if user_choice >= 3 or user_choice < 0:\n",
    "    print(\"Invalid input, You lose!\")\n",
    "else:   \n",
    "    print(random_list[user_choice])\n",
    "    print(\"Computer Choose:\\n\")\n",
    "    print(random_list[comp_choice])\n",
    "\n",
    "\n",
    "    if comp_choice == user_choice:\n",
    "        print(\"It's a draw\\n_\")\n",
    "    elif comp_choice == 0 and user_choice == 1 or comp_choice == 1 and user_choice == 2 or comp_choice == 2 and user_choice == 0:\n",
    "        print(\"You Win\\n_\")\n",
    "    else:\n",
    "        print(\"You lose\\n_\")\n"
   ]
  },
  {
   "cell_type": "code",
   "execution_count": null,
   "metadata": {},
   "outputs": [],
   "source": []
  }
 ],
 "metadata": {
  "kernelspec": {
   "display_name": "Python 3",
   "language": "python",
   "name": "python3"
  },
  "language_info": {
   "codemirror_mode": {
    "name": "ipython",
    "version": 3
   },
   "file_extension": ".py",
   "mimetype": "text/x-python",
   "name": "python",
   "nbconvert_exporter": "python",
   "pygments_lexer": "ipython3",
   "version": "3.8.5"
  }
 },
 "nbformat": 4,
 "nbformat_minor": 4
}
