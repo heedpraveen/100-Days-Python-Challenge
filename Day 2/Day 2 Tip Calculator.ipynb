{
 "cells": [
  {
   "cell_type": "code",
   "execution_count": 1,
   "metadata": {},
   "outputs": [
    {
     "name": "stdout",
     "output_type": "stream",
     "text": [
      "Welcome to the tip calculator!\n",
      "What was the total bill? $245\n",
      "How much tip would you like to give? 10, 12, or 15?12\n",
      "How many people to split the bill?4\n",
      "Each person should pay: $68.60\n"
     ]
    }
   ],
   "source": [
    "#1. Create a greeting for your program.\n",
    "print(\"Welcome to the tip calculator!\")\n",
    "#2. Ask user for the bill amount\n",
    "bill = float(input(\"What was the total bill? $\"))\n",
    "#3. Ask user for the tip in percentage (10, 12 or 15)\n",
    "tip_percentage = int(input(\"How much tip would you like to give? 10, 12, or 15?\"))\n",
    "#4. Ask user for the number of peoples to split the bill\n",
    "people_split = int(input(\"How many people to split the bill?\"))\n",
    "#5. Calculate final bill amount with split and round off to 2 decimal places\n",
    "bill_with_tip = tip_percentage/100 * bill + bill\n",
    "final_bill = round(bill_with_tip / people_split, 2)\n",
    "#6. Print the final bill amount\n",
    "print(\"Each person should pay: $%.2f\"%final_bill)"
   ]
  },
  {
   "cell_type": "code",
   "execution_count": null,
   "metadata": {},
   "outputs": [],
   "source": []
  }
 ],
 "metadata": {
  "kernelspec": {
   "display_name": "Python 3",
   "language": "python",
   "name": "python3"
  },
  "language_info": {
   "codemirror_mode": {
    "name": "ipython",
    "version": 3
   },
   "file_extension": ".py",
   "mimetype": "text/x-python",
   "name": "python",
   "nbconvert_exporter": "python",
   "pygments_lexer": "ipython3",
   "version": "3.8.5"
  }
 },
 "nbformat": 4,
 "nbformat_minor": 4
}
