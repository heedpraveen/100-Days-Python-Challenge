{
 "cells": [
  {
   "cell_type": "code",
   "execution_count": 1,
   "metadata": {},
   "outputs": [
    {
     "name": "stdout",
     "output_type": "stream",
     "text": [
      "\n",
      "*******************************************************************************\n",
      "          |                   |                  |                     |\n",
      " _________|________________.=\"\"_;=.______________|_____________________|_______\n",
      "|                   |  ,-\"_,=\"\"     `\"=.|                  |\n",
      "|___________________|__\"=._o`\"-._        `\"=.______________|___________________\n",
      "          |                `\"=._o`\"=._      _`\"=._                     |\n",
      " _________|_____________________:=._o \"=._.\"_.-=\"'\"=.__________________|_______\n",
      "|                   |    __.--\" , ; `\"=._o.\" ,-\"\"\"-._ \".   |\n",
      "|___________________|_._\"  ,. .` ` `` ,  `\"-._\"-._   \". '__|___________________\n",
      "          |           |o`\"=._` , \"` `; .\". ,  \"-._\"-._; ;              |\n",
      " _________|___________| ;`-.o`\"=._; .\" ` '`.\"\\` . \"-._ /_______________|_______\n",
      "|                   | |o;    `\"-.o`\"=._``  '` \" ,__.--o;   |\n",
      "|___________________|_| ;     (#) `-.o `\"=.`_.--\"_o.-; ;___|___________________\n",
      "____/______/______/___|o;._    \"      `\".o|o_.--\"    ;o;____/______/______/____\n",
      "/______/______/______/_\"=._o--._        ; | ;        ; ;/______/______/______/_\n",
      "____/______/______/______/__\"=._o--._   ;o|o;     _._;o;____/______/______/____\n",
      "/______/______/______/______/____\"=._o._; | ;_.--\"o.--\"_/______/______/______/_\n",
      "____/______/______/______/______/_____\"=.o|o_.--\"\"___/______/______/______/____\n",
      "/______/______/______/______/______/______/______/______/______/______/_____ /\n",
      "*******************************************************************************\n",
      "\n",
      "Welcome to Treasure Island.\n",
      "Your mission is to find the treasure.\n"
     ]
    }
   ],
   "source": [
    "print('''\n",
    "*******************************************************************************\n",
    "          |                   |                  |                     |\n",
    " _________|________________.=\"\"_;=.______________|_____________________|_______\n",
    "|                   |  ,-\"_,=\"\"     `\"=.|                  |\n",
    "|___________________|__\"=._o`\"-._        `\"=.______________|___________________\n",
    "          |                `\"=._o`\"=._      _`\"=._                     |\n",
    " _________|_____________________:=._o \"=._.\"_.-=\"'\"=.__________________|_______\n",
    "|                   |    __.--\" , ; `\"=._o.\" ,-\"\"\"-._ \".   |\n",
    "|___________________|_._\"  ,. .` ` `` ,  `\"-._\"-._   \". '__|___________________\n",
    "          |           |o`\"=._` , \"` `; .\". ,  \"-._\"-._; ;              |\n",
    " _________|___________| ;`-.o`\"=._; .\" ` '`.\"\\` . \"-._ /_______________|_______\n",
    "|                   | |o;    `\"-.o`\"=._``  '` \" ,__.--o;   |\n",
    "|___________________|_| ;     (#) `-.o `\"=.`_.--\"_o.-; ;___|___________________\n",
    "____/______/______/___|o;._    \"      `\".o|o_.--\"    ;o;____/______/______/____\n",
    "/______/______/______/_\"=._o--._        ; | ;        ; ;/______/______/______/_\n",
    "____/______/______/______/__\"=._o--._   ;o|o;     _._;o;____/______/______/____\n",
    "/______/______/______/______/____\"=._o._; | ;_.--\"o.--\"_/______/______/______/_\n",
    "____/______/______/______/______/_____\"=.o|o_.--\"\"___/______/______/______/____\n",
    "/______/______/______/______/______/______/______/______/______/______/_____ /\n",
    "*******************************************************************************\n",
    "''')\n",
    "print(\"Welcome to Treasure Island.\")\n",
    "print(\"Your mission is to find the treasure.\") "
   ]
  },
  {
   "cell_type": "code",
   "execution_count": 10,
   "metadata": {},
   "outputs": [
    {
     "name": "stdout",
     "output_type": "stream",
     "text": [
      "Your name to proceed further! praveen\n",
      "You're in the middle of a dense Jungle. You've come from the South.\n",
      "\n"
     ]
    }
   ],
   "source": [
    "name = input(\"Your name to proceed further! \").upper()\n",
    "print(\"You're in the middle of a dense Forest. You've come from the South.\\n\")"
   ]
  },
  {
   "cell_type": "code",
   "execution_count": 19,
   "metadata": {},
   "outputs": [
    {
     "name": "stdout",
     "output_type": "stream",
     "text": [
      "\n",
      "To the north lies the mysterious Cave, hiding secrets untold.\n",
      "To the east, the river roars, inviting adventure.\n",
      "Type 'North' or 'East'\n",
      "North\n",
      "\n",
      "You bravely step into the Cave. You find a Yellow sign board.\n",
      "As you cautiously navigate you come across 2 ancient chamber.\n",
      "\n",
      "Choose the Chamber? Type 'Demon' for black chamber or 'Angel' for white chamber\n",
      "Demon\n",
      "\n",
      "Open the door by answering the question.\n",
      ">>What's your name? praveen\n",
      "\n",
      "Surprised!!! You are the key PRAVEEN\n",
      "\n",
      "This Chamber is cursed.Once opened you will be cursed to death.\n",
      "Only way to survive is to find the treasure chest.\n",
      "\n",
      "\n",
      "After few steps, You finally reach a chamber bathed in golden light.\n",
      "\n",
      "The Curse is getting worse. There is a 3 chest.\n",
      "   One red, one yellow and one green. Which color do you choose?\n",
      ">>yellow\n",
      "\n",
      "You found the treasure! and CURSE LIFTED. You Win!\n"
     ]
    }
   ],
   "source": [
    "print(\"\\nTo the north lies the mysterious Cave, hiding secrets untold.\\nTo the east, the river roars, inviting adventure.\")\n",
    "direction = input(\"Type 'North' or 'East'\\n\").lower()\n",
    "if direction == 'north':\n",
    "    print(\"\\nYou bravely step into the Cave. You find a Yellow sign board.\")\n",
    "    print(\"As you cautiously navigate you come across 2 ancient chamber.\\n\")\n",
    "\n",
    "    chamber = input(\"Choose the Chamber? Type 'Demon' for black chamber or 'Angel' for white chamber\\n\").lower()\n",
    "    if chamber == 'demon':\n",
    "        print(\"\\nOpen the door by answering the question.\")\n",
    "        key = input(\">>What's your name? \").upper()\n",
    "\n",
    "        if key == name:\n",
    "            print(f\"\\nSurprised!!! You are the key {name}\\n\")\n",
    "            print(\"This Chamber is cursed.Once opened you will be cursed to death.\")\n",
    "            print(\"Only way to survive is to find the treasure chest.\")\n",
    "\n",
    "            print(\"\\n\\nAfter few steps, You finally reach a chamber bathed in golden light.\\n\")\n",
    "            print(\"The Curse is getting worse. There is a 3 chest.\")\n",
    "            print(\"   One red, one yellow and one green. Which color do you choose?\")\n",
    "\n",
    "            final_chest = input('>>').lower() \n",
    "\n",
    "            if final_chest == 'red':\n",
    "                print(\"\\nFull of metals and you are dead. Game Over!\")\n",
    "            elif final_chest == 'yellow':\n",
    "                print(\"\\nYou found the treasure! and CURSE LIFTED. You Win!\")\n",
    "            elif final_chest == 'green':\n",
    "                print(\"\\nEmpty! You are dead. Game Over!\")\n",
    "            else:\n",
    "                print(\"\\n You wasted time. RIP!\")\n",
    "        else:\n",
    "            print(\"You are dead! Game Over\")\n",
    "\n",
    "    else:\n",
    "        print(\"\\nOpen the door by answering the question.\")\n",
    "        angel_key = int(input(\">>15**2/15 = ? \"))\n",
    "        if angel_key == 15:\n",
    "            print(f\"\\nWelcome {name}\")\n",
    "            print(\"You found a chest in golden color.\")\n",
    "\n",
    "            gold_chest = input(\">>Type Open or Walk away\\n\").lower()\n",
    "\n",
    "            if gold_chest == open:\n",
    "                print(\"Gold and you die on top of the chest. Game Over!\")\n",
    "            else:\n",
    "                print(\"After few steps, You finally reach a chamber bathed in golden light.\")\n",
    "                print(\"There is a 3 chest.\\nOne red, one yellow and one green. Which color do you choose?\")\n",
    "\n",
    "                final_chest = input('>>').lower() \n",
    "\n",
    "                if final_chest == 'red':\n",
    "                    print(\"\\nFull of metals. Game Over!\")\n",
    "                elif final_chest == 'yellow':\n",
    "                    print(\"You found the treasure! You Win!\")\n",
    "                else:\n",
    "                    print(\"Empty! Game Over!\")\n",
    "        else:\n",
    "            print(\"RIP! Game Over\")\n",
    "else:\n",
    "    print(\"Eaten by beast. Game Over!\")"
   ]
  },
  {
   "cell_type": "code",
   "execution_count": null,
   "metadata": {},
   "outputs": [],
   "source": []
  }
 ],
 "metadata": {
  "kernelspec": {
   "display_name": "Python 3",
   "language": "python",
   "name": "python3"
  },
  "language_info": {
   "codemirror_mode": {
    "name": "ipython",
    "version": 3
   },
   "file_extension": ".py",
   "mimetype": "text/x-python",
   "name": "python",
   "nbconvert_exporter": "python",
   "pygments_lexer": "ipython3",
   "version": "3.8.5"
  }
 },
 "nbformat": 4,
 "nbformat_minor": 4
}
