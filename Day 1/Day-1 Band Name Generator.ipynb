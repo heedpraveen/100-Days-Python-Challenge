{
 "cells": [
  {
   "cell_type": "code",
   "execution_count": 1,
   "metadata": {},
   "outputs": [
    {
     "name": "stdout",
     "output_type": "stream",
     "text": [
      "Welcome to the Band Name Generator\n",
      "What's the name of the city you grew up in?\n",
      "Madurai\n",
      "What's your pet's name?\n",
      "Cat\n",
      "Your band name could be Madurai Cat\n"
     ]
    }
   ],
   "source": [
    "#1. Create a greeting for your program.\n",
    "print(\"Welcome to the Band Name Generator\")\n",
    "#2. Ask the user for the city that they grew up in.\n",
    "city = input(\"What's the name of the city you grew up in?\\n\")\n",
    "#3. Ask the user for the name of a pet.\n",
    "pet = input(\"What's your pet's name?\\n\")\n",
    "#4. Combine the name of their city and pet and show them their band name.\n",
    "print(\"Your band name could be \" + city + \" \" + pet)\n",
    "#5. Make sure the input cursor shows on a new line:"
   ]
  },
  {
   "cell_type": "code",
   "execution_count": null,
   "metadata": {},
   "outputs": [],
   "source": []
  }
 ],
 "metadata": {
  "kernelspec": {
   "display_name": "Python 3",
   "language": "python",
   "name": "python3"
  },
  "language_info": {
   "codemirror_mode": {
    "name": "ipython",
    "version": 3
   },
   "file_extension": ".py",
   "mimetype": "text/x-python",
   "name": "python",
   "nbconvert_exporter": "python",
   "pygments_lexer": "ipython3",
   "version": "3.8.5"
  }
 },
 "nbformat": 4,
 "nbformat_minor": 4
}
